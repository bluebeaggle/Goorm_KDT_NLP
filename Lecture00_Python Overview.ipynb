{
  "nbformat": 4,
  "nbformat_minor": 0,
  "metadata": {
    "colab": {
      "name": "Untitled1.ipynb",
      "provenance": []
    },
    "kernelspec": {
      "name": "python3",
      "display_name": "Python 3"
    },
    "language_info": {
      "name": "python"
    }
  },
  "cells": [
    {
      "cell_type": "markdown",
      "source": [
        "#**Features of Python**\n",
        "\n"
      ],
      "metadata": {
        "id": "nExIQ8_CjlOE"
      }
    },
    {
      "cell_type": "markdown",
      "source": [
        "\n",
        "**1. 플랫폼 독립적인 인터프리터 언어**\n",
        " - 코드와 인터프리터만 있다면 어디서든 실행 가능!\n"
      ],
      "metadata": {
        "id": "YLQF4A8Ej4qO"
      }
    },
    {
      "cell_type": "markdown",
      "source": [
        ".py는 인터프리터만 있다면 운영체제와 상관없이 똑같이 작동 됨.\n",
        "인터프리터를 거치기 때문에 성능에 영향이 있음"
      ],
      "metadata": {
        "id": "8GbZDtogkHAj"
      }
    },
    {
      "cell_type": "markdown",
      "source": [
        "**2. 완전 객체 지향 언어**\n",
        " - 모든 것은 객체다\n"
      ],
      "metadata": {
        "id": "KBX8gqC6kgfy"
      }
    },
    {
      "cell_type": "markdown",
      "source": [
        "원시자료형까지도 객체다"
      ],
      "metadata": {
        "id": "-fVpfYBwkgmy"
      }
    },
    {
      "cell_type": "markdown",
      "source": [
        "**3. 동적 타이핑 언어**\n",
        " - 코드를 실행하던 중에 타이핑\n",
        " - 덕 타이핑 (Duck Typing)\n",
        "    - "
      ],
      "metadata": {
        "id": "18nQN7yRkgqg"
      }
    },
    {
      "cell_type": "markdown",
      "source": [
        "int a 가 아닌, a=3을 넣어도 a가 int형으로 변형됨"
      ],
      "metadata": {
        "id": "TmqCAsTfkgth"
      }
    },
    {
      "cell_type": "markdown",
      "source": [
        "# **Why Python? High Productivity**"
      ],
      "metadata": {
        "id": "f_soywK5lmGq"
      }
    },
    {
      "cell_type": "markdown",
      "source": [
        "**1.쉬운 문법 & 다양한 기능**\n",
        " - 높은 생산성"
      ],
      "metadata": {
        "id": "Sjts8VIFltrl"
      }
    },
    {
      "cell_type": "markdown",
      "source": [
        "**2. 다양한 라이브러리**\n",
        " - 쉬운 라이브러리 설치 및 관리\n",
        " - 수많은 사람들이 다양한 라이브러리에 기여 및 공개"
      ],
      "metadata": {
        "id": "h0svgEK-l2OM"
      }
    },
    {
      "cell_type": "markdown",
      "source": [
        "**3. 널리 쓰임**\n",
        " - 인터넷에서 관련 문서 및 도움을 받기 유리함\n",
        " - 분야를 가리지 않고 다양한 목적으로 사용\n",
        " - 데이터 분석 및 가공에서 두각을 드러냄"
      ],
      "metadata": {
        "id": "6XE4wyn0mAdF"
      }
    },
    {
      "cell_type": "markdown",
      "source": [
        "# **Life is short, You need Python**"
      ],
      "metadata": {
        "id": "4ANB2F5xmOvh"
      }
    }
  ]
}