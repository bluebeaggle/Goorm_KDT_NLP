{
  "nbformat": 4,
  "nbformat_minor": 0,
  "metadata": {
    "colab": {
      "name": "Untitled2.ipynb",
      "provenance": []
    },
    "kernelspec": {
      "name": "python3",
      "display_name": "Python 3"
    },
    "language_info": {
      "name": "python"
    }
  },
  "cells": [
    {
      "cell_type": "markdown",
      "source": [
        "#Development Environment"
      ],
      "metadata": {
        "id": "nWnhGvuEnDjq"
      }
    },
    {
      "cell_type": "markdown",
      "source": [
        "1. Operating System\n",
        "\n",
        "- Window는 라이브러리 호환성이 맞지않음\n",
        "- Linux 및 MAC 사용 권장\n",
        " - VirtualBox : 성능 저하\n",
        " - WSL : Window 위에서 Linux 사용 가능\n",
        " - Colab, goormide : 클라우드 기반 서비스 사용"
      ],
      "metadata": {
        "id": "Cfh_w_zInhjV"
      }
    },
    {
      "cell_type": "markdown",
      "source": [
        "2. Python 인터프리터\n",
        "- Python 2는 사용금지 (대부분 3.X를 쓰임)\n",
        "- 3.8 이상 권장\n"
      ],
      "metadata": {
        "id": "ZlfP7x1anyYf"
      }
    },
    {
      "cell_type": "markdown",
      "source": [
        "3. Code Editor\n",
        "- VIM or Atom 사용 권장 : Code Editor\n",
        "- **Visual Studio Code or PyCharm : IDE 사용 권장**\n",
        "- Jupyter : Web-baed IDE 사용 가능"
      ],
      "metadata": {
        "id": "Y6-Ctv4Qn21l"
      }
    },
    {
      "cell_type": "markdown",
      "source": [
        "4. Package Management\n",
        "\n",
        "- PIP + Virtal env : 기본 패키지 관리 프로그램\n",
        "- ANACONDA : 기계학습 및 수치해석 특화 패키지 관리 프로그램\n",
        " - 개인 or 교육용 or 5인미만 : 무료\n",
        " - 그 외 유료\n",
        " - 추후 강좌 진행 중 설치 진행 실시 예정"
      ],
      "metadata": {
        "id": "n63sqfCLn3Hq"
      }
    },
    {
      "cell_type": "markdown",
      "source": [
        "#**Overview**\n"
      ],
      "metadata": {
        "id": "7jZ5AQI9pVEF"
      }
    },
    {
      "cell_type": "markdown",
      "source": [
        "**권장 : Window + WSL + VS Code + ANACONDA**\n",
        "- 장점 : Window와 Linux를 아우르는 개발 환경\n",
        "- 단점 : 윈도우 11에서만 GPU를 지원, 매우 복잡한 설치\n",
        "\n",
        "\n",
        "Widow + VS Code,PyCharm + SSH = 서버 필요"
      ],
      "metadata": {
        "id": "yfz2aVnfpYwf"
      }
    },
    {
      "cell_type": "markdown",
      "source": [
        "#**TODO for Today**\n"
      ],
      "metadata": {
        "id": "gFSJe13VqNB0"
      }
    },
    {
      "cell_type": "markdown",
      "source": [
        "**과제 0 : 환경설정**\n",
        " - 여러가지 건드려보기 (단축키를 찾아보아도 좋음)\n",
        "\n",
        "**(Optional for Linux & WSL users**\n",
        "- Linux 기본 명령어 익히기\n",
        " - rm, mkdir, cp, cd, mv....(기타 구글링)\n",
        "- Linux 환경 꾸미기\n",
        " - 심심하다면 Shell을 oh-my-zsh 같은 거로 예쁘게 꾸며봅시다."
      ],
      "metadata": {
        "id": "ZKW_2ypIqT9C"
      }
    }
  ]
}