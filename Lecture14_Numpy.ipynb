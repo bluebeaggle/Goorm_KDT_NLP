{
  "nbformat": 4,
  "nbformat_minor": 0,
  "metadata": {
    "colab": {
      "name": "Untitled20.ipynb",
      "provenance": []
    },
    "kernelspec": {
      "name": "python3",
      "display_name": "Python 3"
    },
    "language_info": {
      "name": "python"
    }
  },
  "cells": [
    {
      "cell_type": "markdown",
      "source": [
        "#$Numpy$\n"
      ],
      "metadata": {
        "id": "jJpYNIRHnj-5"
      }
    },
    {
      "cell_type": "markdown",
      "source": [
        "### 배열"
      ],
      "metadata": {
        "id": "pcCEguD8nr_R"
      }
    },
    {
      "cell_type": "code",
      "execution_count": 1,
      "metadata": {
        "colab": {
          "base_uri": "https://localhost:8080/"
        },
        "id": "hdt2gImOZPNl",
        "outputId": "20e489b6-b4c1-4307-9356-39c6d354a405"
      },
      "outputs": [
        {
          "output_type": "stream",
          "name": "stdout",
          "text": [
            "<class 'numpy.ndarray'>\n"
          ]
        }
      ],
      "source": [
        "import numpy as np\n",
        "\n",
        "a = np.array ([1,2,3])  # 1 x 3 행렬\n",
        "print(type(a))"
      ]
    },
    {
      "cell_type": "code",
      "source": [
        "print(a.shape)      "
      ],
      "metadata": {
        "colab": {
          "base_uri": "https://localhost:8080/"
        },
        "id": "uVvl4EGboJsJ",
        "outputId": "ab1b6116-1104-4ccf-f1cd-e37d3278d541"
      },
      "execution_count": 2,
      "outputs": [
        {
          "output_type": "stream",
          "name": "stdout",
          "text": [
            "(3,)\n"
          ]
        }
      ]
    },
    {
      "cell_type": "code",
      "source": [
        "print(a[0],a[1],a[2])"
      ],
      "metadata": {
        "colab": {
          "base_uri": "https://localhost:8080/"
        },
        "id": "leSN06UGoTcR",
        "outputId": "5aa705b5-0d87-4fde-fe2b-3e1eeb824ddd"
      },
      "execution_count": 3,
      "outputs": [
        {
          "output_type": "stream",
          "name": "stdout",
          "text": [
            "1 2 3\n"
          ]
        }
      ]
    }
  ]
}