{
  "nbformat": 4,
  "nbformat_minor": 0,
  "metadata": {
    "colab": {
      "name": "Untitled9.ipynb",
      "provenance": [],
      "collapsed_sections": []
    },
    "kernelspec": {
      "name": "python3",
      "display_name": "Python 3"
    },
    "language_info": {
      "name": "python"
    }
  },
  "cells": [
    {
      "cell_type": "markdown",
      "source": [
        "#***Pythonic Programming***"
      ],
      "metadata": {
        "id": "xMW-vCiWHgIY"
      }
    },
    {
      "cell_type": "markdown",
      "source": [
        "#Comprehension"
      ],
      "metadata": {
        "id": "uZoTzEU7HoNs"
      }
    },
    {
      "cell_type": "markdown",
      "source": [
        "- List, Dictionary 등을 빠르게 만드는 기법\n",
        " - for + append 보다 속도 빠름"
      ],
      "metadata": {
        "id": "QFTf3ZbIHoGm"
      }
    },
    {
      "cell_type": "code",
      "source": [
        "result = []\n",
        "for i in range(10) :\n",
        "    result.append(i*2)\n",
        "#####################################\n",
        "result = [i*2 for i in range(10)]"
      ],
      "metadata": {
        "id": "NwzVtmx4H3y-"
      },
      "execution_count": 2,
      "outputs": []
    },
    {
      "cell_type": "code",
      "source": [
        "result = {}\n",
        "for i in range(10) :\n",
        "    result[str(i)] = i\n",
        "#####################################\n",
        "result= {str(i): i for i in range(10)}"
      ],
      "metadata": {
        "id": "_w_fe1uEH-M-"
      },
      "execution_count": 6,
      "outputs": []
    },
    {
      "cell_type": "code",
      "source": [
        "result = set()\n",
        "for i in range(10) :\n",
        "    result.add(str(i))\n",
        "#####################################\n",
        "result = {str(i) for i in range(10)}"
      ],
      "metadata": {
        "id": "L6ADAl1sIF2I"
      },
      "execution_count": 7,
      "outputs": []
    },
    {
      "cell_type": "markdown",
      "source": [
        "- if문을 마지막에 달아 원하는 요소만 추가 가능"
      ],
      "metadata": {
        "id": "mTYa5ipzHoEl"
      }
    },
    {
      "cell_type": "code",
      "source": [
        "result = [i for i in range(100) if i %2 ==0]\n",
        "print(result)"
      ],
      "metadata": {
        "colab": {
          "base_uri": "https://localhost:8080/"
        },
        "id": "t_GY5MLMSYf6",
        "outputId": "7edd83ad-3a8d-480e-f124-49bc02bc3a22"
      },
      "execution_count": 10,
      "outputs": [
        {
          "output_type": "stream",
          "name": "stdout",
          "text": [
            "[0, 2, 4, 6, 8, 10, 12, 14, 16, 18, 20, 22, 24, 26, 28, 30, 32, 34, 36, 38, 40, 42, 44, 46, 48, 50, 52, 54, 56, 58, 60, 62, 64, 66, 68, 70, 72, 74, 76, 78, 80, 82, 84, 86, 88, 90, 92, 94, 96, 98]\n"
          ]
        }
      ]
    },
    {
      "cell_type": "markdown",
      "source": [
        "- 겹 for문 사용 가능"
      ],
      "metadata": {
        "id": "An9_G1PiSek4"
      }
    },
    {
      "cell_type": "code",
      "source": [
        "result = [(i,j) for i in range(5) for j in range(i)]\n",
        "print(result)"
      ],
      "metadata": {
        "colab": {
          "base_uri": "https://localhost:8080/"
        },
        "id": "Wh5pv8rbSdjo",
        "outputId": "348d2d99-fda7-467f-c1ee-a924bf43af9b"
      },
      "execution_count": 11,
      "outputs": [
        {
          "output_type": "stream",
          "name": "stdout",
          "text": [
            "[(1, 0), (2, 0), (2, 1), (3, 0), (3, 1), (3, 2), (4, 0), (4, 1), (4, 2), (4, 3)]\n"
          ]
        }
      ]
    },
    {
      "cell_type": "markdown",
      "source": [
        "- 다차원 배열 만들기가 매우 유용"
      ],
      "metadata": {
        "id": "YBsadb7AHoCA"
      }
    },
    {
      "cell_type": "code",
      "source": [
        "eye = [[int(i==j) for j in range(5)] for i in range(5)]\n",
        "print(eye)"
      ],
      "metadata": {
        "colab": {
          "base_uri": "https://localhost:8080/"
        },
        "id": "bJbpO7_1SrzR",
        "outputId": "876145ed-e954-430b-e5bb-f5d916168711"
      },
      "execution_count": 12,
      "outputs": [
        {
          "output_type": "stream",
          "name": "stdout",
          "text": [
            "[[1, 0, 0, 0, 0], [0, 1, 0, 0, 0], [0, 0, 1, 0, 0], [0, 0, 0, 1, 0], [0, 0, 0, 0, 1]]\n"
          ]
        }
      ]
    },
    {
      "cell_type": "markdown",
      "source": [
        "#Generator"
      ],
      "metadata": {
        "id": "iNpksC_hHn_1"
      }
    },
    {
      "cell_type": "markdown",
      "source": [
        "- range 함수의 경우 숫자를 하나씩 생성하여 반환\n",
        " - 이러한 요소를 하나씩 생성해서 반환하는 객체를 Generator 라고 함"
      ],
      "metadata": {
        "id": "rknHAbiBHn9p"
      }
    },
    {
      "cell_type": "code",
      "source": [
        "def my_range(stop) :\n",
        "    number = 0\n",
        "    while number < stop :\n",
        "        yield number\n",
        "        number += 1\n",
        "\n",
        "for i in my_range(5) :\n",
        "    print(i)"
      ],
      "metadata": {
        "colab": {
          "base_uri": "https://localhost:8080/"
        },
        "id": "c-liyhzPUM01",
        "outputId": "b18576f8-ca5c-45cb-bc02-d1812dfc2044"
      },
      "execution_count": 13,
      "outputs": [
        {
          "output_type": "stream",
          "name": "stdout",
          "text": [
            "0\n",
            "1\n",
            "2\n",
            "3\n",
            "4\n"
          ]
        }
      ]
    },
    {
      "cell_type": "markdown",
      "source": [
        "- function에 yield를 사용할 시 Generator가 됨\n",
        "- yield 하는 위치에서 값을 반환\n",
        "- 다시 값을 요청 받을 시 yield 다음 줄부터 실행\n",
        "- Return 될 시 반복을 멈춤\n",
        "    - 정확히는 StopIteration Error 발생\n",
        "- Sequence 전체를 생성하는 것이 아니므로 메모리 효율적\n",
        "    - 매우 큰 데이터 셋을 처리할 땐 Generator 사용 권장\n",
        "- 괄호로 Generator Comprehension 형태로 선언 가능\n",
        "    - Function 등으로 이미 괄호 쳐져 있다면 괄호 생략 가능"
      ],
      "metadata": {
        "id": "asmhio9HHn7N"
      }
    },
    {
      "cell_type": "code",
      "source": [
        "even_generator = (i*2 for i in range(100))\n",
        "print(list(even_generator))"
      ],
      "metadata": {
        "colab": {
          "base_uri": "https://localhost:8080/"
        },
        "id": "SYtj8K3nU8EL",
        "outputId": "824722cb-cd5d-4fd9-8feb-241910e8f64c"
      },
      "execution_count": 15,
      "outputs": [
        {
          "output_type": "stream",
          "name": "stdout",
          "text": [
            "[0, 2, 4, 6, 8, 10, 12, 14, 16, 18, 20, 22, 24, 26, 28, 30, 32, 34, 36, 38, 40, 42, 44, 46, 48, 50, 52, 54, 56, 58, 60, 62, 64, 66, 68, 70, 72, 74, 76, 78, 80, 82, 84, 86, 88, 90, 92, 94, 96, 98, 100, 102, 104, 106, 108, 110, 112, 114, 116, 118, 120, 122, 124, 126, 128, 130, 132, 134, 136, 138, 140, 142, 144, 146, 148, 150, 152, 154, 156, 158, 160, 162, 164, 166, 168, 170, 172, 174, 176, 178, 180, 182, 184, 186, 188, 190, 192, 194, 196, 198]\n"
          ]
        }
      ]
    },
    {
      "cell_type": "markdown",
      "source": [
        "#Built-in Functions (내장함수)"
      ],
      "metadata": {
        "id": "xuIuga30Hn40"
      }
    },
    {
      "cell_type": "markdown",
      "source": [
        "- sum([Iterable])"
      ],
      "metadata": {
        "id": "qLqyjFGtVaSr"
      }
    },
    {
      "cell_type": "code",
      "source": [
        "sum([1,2,3,4,5])\n",
        "sum (i for i in range(1,101) if i%2==0)         #Generator이며, sum()함수로 괄호가 이미 있기에 for문 괄호 생략 됨"
      ],
      "metadata": {
        "colab": {
          "base_uri": "https://localhost:8080/"
        },
        "id": "xKs-vqyMVd8P",
        "outputId": "bc6e5480-6779-4198-be44-06151ac253e9"
      },
      "execution_count": 23,
      "outputs": [
        {
          "output_type": "execute_result",
          "data": {
            "text/plain": [
              "2550"
            ]
          },
          "metadata": {},
          "execution_count": 23
        }
      ]
    },
    {
      "cell_type": "markdown",
      "source": [
        "- any([Iterable]), all([Iterable])"
      ],
      "metadata": {
        "id": "8fVQbYq0Vsvc"
      }
    },
    {
      "cell_type": "code",
      "source": [
        "any([False, True, False])       #하나라도 참\n",
        "all([False,True,False])         #모두 참"
      ],
      "metadata": {
        "colab": {
          "base_uri": "https://localhost:8080/"
        },
        "id": "97WU6sZHVhm-",
        "outputId": "1822cd6c-e408-47ff-e710-45b03e9edea7"
      },
      "execution_count": 20,
      "outputs": [
        {
          "output_type": "execute_result",
          "data": {
            "text/plain": [
              "False"
            ]
          },
          "metadata": {},
          "execution_count": 20
        }
      ]
    },
    {
      "cell_type": "markdown",
      "source": [
        "- max([Iterable]), min([Iterable])"
      ],
      "metadata": {
        "id": "x2Ue4Dg8Hn2i"
      }
    },
    {
      "cell_type": "code",
      "source": [
        "max([7,5,-2,5,8])           #가장 큰 값\n",
        "min([7,5,-2,5,8])           #가장 작은 값"
      ],
      "metadata": {
        "colab": {
          "base_uri": "https://localhost:8080/"
        },
        "id": "xu8AIE-tWCcf",
        "outputId": "abece50a-f4e2-4c6b-cfdf-f25b815378bc"
      },
      "execution_count": 21,
      "outputs": [
        {
          "output_type": "execute_result",
          "data": {
            "text/plain": [
              "-2"
            ]
          },
          "metadata": {},
          "execution_count": 21
        }
      ]
    },
    {
      "cell_type": "markdown",
      "source": [
        "- zip \n",
        "    - 2개 이상의 순환 가능학 객체를 앞에서 부터 한번에 접근할 때 사용\n",
        "    - Unpacking을 이용하여 2차원 리스트의 열 단위 접근 역시 가능\n",
        "    - ***seq2 = zip(\\*seq1)의 역연산은 seq1 = zip(\\*seq2) 이다!***"
      ],
      "metadata": {
        "id": "7cnIq-FNHnxp"
      }
    },
    {
      "cell_type": "code",
      "source": [
        "seq1 = ['What', 'is', 'zip']\n",
        "seq2 = [True, False, True]\n",
        "seq3 = [1,2,3,4]                    # 길이가 안 맞을 경우 남는 건 버림\n",
        "\n",
        "for w1,w2,w3 in zip(seq1,seq2, seq3) :  #앞에서 부터 하나씩 빼어 Tuple로 반환\n",
        "    print(w1,w2,w3)"
      ],
      "metadata": {
        "colab": {
          "base_uri": "https://localhost:8080/"
        },
        "id": "sQroWMxjXP0a",
        "outputId": "96a91da1-b0b9-4958-f151-4d783a395b07"
      },
      "execution_count": 24,
      "outputs": [
        {
          "output_type": "stream",
          "name": "stdout",
          "text": [
            "What True 1\n",
            "is False 2\n",
            "zip True 3\n"
          ]
        }
      ]
    },
    {
      "cell_type": "code",
      "source": [
        "seq1= [1,2,3,4,5]               #길이가 안맞을 경우 남는 건 버림 // 앞뒤 길이 상관없음\n",
        "seq2 = [7,8]\n",
        "\n",
        "for w1,w2 in zip(seq1,seq2) :\n",
        "    print(w1,w2)"
      ],
      "metadata": {
        "colab": {
          "base_uri": "https://localhost:8080/"
        },
        "id": "YjVCF2c3Yawl",
        "outputId": "55b442d6-04dc-4b36-8d3f-85a1d890a455"
      },
      "execution_count": 26,
      "outputs": [
        {
          "output_type": "stream",
          "name": "stdout",
          "text": [
            "1 7\n",
            "2 8\n"
          ]
        }
      ]
    },
    {
      "cell_type": "code",
      "source": [
        "array = [[1,2,3],[4,5,6],[7,8,9]]\n",
        "\n",
        "for row in array:                # 행 단위 접근\n",
        "    print(row)\n",
        "for col in zip(*array):             # 열 단위 접근  *Asterik 으로 하면 깔끔하게 코딩 가능 a[0],a[1]..하지않아도 됨\n",
        "    print(col)"
      ],
      "metadata": {
        "colab": {
          "base_uri": "https://localhost:8080/"
        },
        "id": "hPbuTOTRXl1x",
        "outputId": "07749999-9b42-4004-d843-d7cc1eef6fed"
      },
      "execution_count": 25,
      "outputs": [
        {
          "output_type": "stream",
          "name": "stdout",
          "text": [
            "[1, 2, 3]\n",
            "[4, 5, 6]\n",
            "[7, 8, 9]\n",
            "(1, 4, 7)\n",
            "(2, 5, 8)\n",
            "(3, 6, 9)\n"
          ]
        }
      ]
    },
    {
      "cell_type": "markdown",
      "source": [
        "- enumerate\n",
        "    - for 문이 Sequence를 돌 때 그 INDEX가 필요할 때가 있음\n",
        "        -> enumerate 내장 함수 사용"
      ],
      "metadata": {
        "id": "bqlOXGekHnqH"
      }
    },
    {
      "cell_type": "code",
      "source": [
        "seq = ['this','is','sentence']\n",
        "\n",
        "for i in range(len(seq)) :\n",
        "    print(i, seq[i])\n",
        "\n",
        "for i, word in enumerate(seq) :\n",
        "    print(i, word)\n"
      ],
      "metadata": {
        "colab": {
          "base_uri": "https://localhost:8080/"
        },
        "id": "oW1DQkYkglLd",
        "outputId": "58145d51-6e2f-42db-dde0-12faff28e93f"
      },
      "execution_count": 27,
      "outputs": [
        {
          "output_type": "stream",
          "name": "stdout",
          "text": [
            "0 this\n",
            "1 is\n",
            "2 sentence\n",
            "0 this\n",
            "1 is\n",
            "2 sentence\n"
          ]
        }
      ]
    },
    {
      "cell_type": "markdown",
      "source": [
        "    - zip과 enumerate를 동시에 사용하는 등 여러 Generator를 한번에 사용\n"
      ],
      "metadata": {
        "id": "39NJ_uErg48G"
      }
    },
    {
      "cell_type": "code",
      "source": [
        "seq1 = ['This','sentence']\n",
        "seq2 = [True, False]\n",
        "\n",
        "for i, (a,b) in enumerate(zip(seq1,seq2)) :\n",
        "    print(i,a,b)"
      ],
      "metadata": {
        "colab": {
          "base_uri": "https://localhost:8080/"
        },
        "id": "ZNE4m1CBg-QG",
        "outputId": "b828a844-9df8-4907-e7fe-baeeb9d46f0a"
      },
      "execution_count": 28,
      "outputs": [
        {
          "output_type": "stream",
          "name": "stdout",
          "text": [
            "0 This True\n",
            "1 sentence False\n"
          ]
        }
      ]
    },
    {
      "cell_type": "markdown",
      "source": [
        "    - Generator는 List 형태로 출력하기 위해선 list로 변환 필요"
      ],
      "metadata": {
        "id": "-G_e1JzZhONk"
      }
    },
    {
      "cell_type": "code",
      "source": [
        "list(enumerate(['This','is','sentence']))"
      ],
      "metadata": {
        "colab": {
          "base_uri": "https://localhost:8080/"
        },
        "id": "HKGWEx_7hWyK",
        "outputId": "7622e2b8-6ddd-4d98-d078-a6c99faef8b8"
      },
      "execution_count": 29,
      "outputs": [
        {
          "output_type": "execute_result",
          "data": {
            "text/plain": [
              "[(0, 'This'), (1, 'is'), (2, 'sentence')]"
            ]
          },
          "metadata": {},
          "execution_count": 29
        }
      ]
    },
    {
      "cell_type": "markdown",
      "source": [
        "- Lambda Function\n",
        "    - 함수의 이름 없이 빠르게 만들어 쓸 수 있는 익명 함수\n",
        "    - 수학에서의 람다 대수에서 유래"
      ],
      "metadata": {
        "id": "YX8JQjosijbA"
      }
    },
    {
      "cell_type": "code",
      "source": [
        "def add(a,b) :\n",
        "    return a+b\n",
        "add(4,5)"
      ],
      "metadata": {
        "colab": {
          "base_uri": "https://localhost:8080/"
        },
        "id": "apmAL5q5iuvJ",
        "outputId": "8e2b11ec-e6c9-4390-9f77-0748124bea18"
      },
      "execution_count": 30,
      "outputs": [
        {
          "output_type": "execute_result",
          "data": {
            "text/plain": [
              "9"
            ]
          },
          "metadata": {},
          "execution_count": 30
        }
      ]
    },
    {
      "cell_type": "code",
      "source": [
        "add = lambda a,b : a+b\n",
        "add(4,5)"
      ],
      "metadata": {
        "colab": {
          "base_uri": "https://localhost:8080/"
        },
        "id": "ST4SqK96i1uT",
        "outputId": "ed14abfe-8c0c-4010-b910-ae8e11a166e5"
      },
      "execution_count": 31,
      "outputs": [
        {
          "output_type": "execute_result",
          "data": {
            "text/plain": [
              "9"
            ]
          },
          "metadata": {},
          "execution_count": 31
        }
      ]
    },
    {
      "cell_type": "markdown",
      "source": [
        "    - lambda [param1],[param2],,, : [expression] 형태로 사용\n",
        "    - 여러 줄을 쓸 수 없음\n",
        "    - 공식적으로는 Lambda의 사용을 권장하지 않음, 그러나 많이 씀\n",
        "        - 문서화 지원 미비\n",
        "        - 이름이 존재하지 않는 함수가 생성     #자원관리 어려움\n",
        "        - 복잡한 함수 lambda로 작성할 시 가독성 하락"
      ],
      "metadata": {
        "id": "ay2xh52Ai8u-"
      }
    },
    {
      "cell_type": "markdown",
      "source": [
        "- map ([function],[iterable])\n",
        "    - 각 요소에 function 함수를 적용하여 반환"
      ],
      "metadata": {
        "id": "Kp7hFuclj7MS"
      }
    },
    {
      "cell_type": "code",
      "source": [
        "seq = [6,-2,8,4,-5]\n",
        "list(map(lambda x: x*2, seq))"
      ],
      "metadata": {
        "colab": {
          "base_uri": "https://localhost:8080/"
        },
        "id": "tj7he_RBjQV3",
        "outputId": "108c7918-cf6c-47e9-bedf-e71da5399071"
      },
      "execution_count": 32,
      "outputs": [
        {
          "output_type": "execute_result",
          "data": {
            "text/plain": [
              "[12, -4, 16, 8, -10]"
            ]
          },
          "metadata": {},
          "execution_count": 32
        }
      ]
    },
    {
      "cell_type": "markdown",
      "source": [
        "- filter([function,[iterable])\n",
        "    - 각 요소에 function 함수를 적용하여 참이 나오는 것만 반환"
      ],
      "metadata": {
        "id": "yF6hA_cNkJOW"
      }
    },
    {
      "cell_type": "code",
      "source": [
        "seq = [6,-2,8,4,-5]\n",
        "list(filter(lambda x:x>0, seq))"
      ],
      "metadata": {
        "colab": {
          "base_uri": "https://localhost:8080/"
        },
        "id": "RXB9DlffkS3Z",
        "outputId": "3aa77ad0-5d3f-45dd-99a4-7bcf8bc9a494"
      },
      "execution_count": 33,
      "outputs": [
        {
          "output_type": "execute_result",
          "data": {
            "text/plain": [
              "[6, 8, 4]"
            ]
          },
          "metadata": {},
          "execution_count": 33
        }
      ]
    },
    {
      "cell_type": "markdown",
      "source": [
        "#TODO for Today\n",
        "- 과제 1 : 나만의 내장 함수 & 알고리즘 함수 만들기\n",
        "- Optional for Idle Students\n",
        "    - Python 알고리즘 사이트의 문제들 풀어 보기 & 예제 보기\n",
        "    - 백준\n",
        "    - Python Example\n",
        "        (https://www.programiz.com/python-programming/examples)"
      ],
      "metadata": {
        "id": "fWKl2yQBkrXh"
      }
    }
  ]
}